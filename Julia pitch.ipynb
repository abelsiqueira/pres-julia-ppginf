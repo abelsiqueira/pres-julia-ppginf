{
 "cells": [
  {
   "cell_type": "markdown",
   "metadata": {},
   "source": [
    "# A Linguagem Julia - Motivação"
   ]
  },
  {
   "cell_type": "markdown",
   "metadata": {},
   "source": [
    "# https://github.com/abelsiqueira/pres-julia-ppginf"
   ]
  },
  {
   "cell_type": "markdown",
   "metadata": {},
   "source": [
    "## O que tem de bom?\n",
    "\n",
    " - Alta performance e alto desempenho - Dinâmica\n",
    " - Multiplataforma e software livre\n",
    " - Sintaxe fácil\n",
    " - Incentiva boas práticas (implicitamente)"
   ]
  },
  {
   "cell_type": "code",
   "execution_count": null,
   "metadata": {
    "collapsed": false
   },
   "outputs": [],
   "source": [
    "function collatz(n)\n",
    "    print(\"$n\")\n",
    "    if n == 1\n",
    "        println(\".\")\n",
    "    elseif n % 2 == 0\n",
    "        print(\" ↓ \")\n",
    "        collatz(div(n,2))\n",
    "    else\n",
    "        print(\" ↑ \")\n",
    "        collatz(3n+1)\n",
    "    end\n",
    "end"
   ]
  },
  {
   "cell_type": "code",
   "execution_count": null,
   "metadata": {
    "collapsed": false
   },
   "outputs": [],
   "source": [
    "collatz(3)"
   ]
  },
  {
   "cell_type": "code",
   "execution_count": null,
   "metadata": {
    "collapsed": false
   },
   "outputs": [],
   "source": [
    "# Comentários com #, ou #=...=#\n",
    "function bisseccao(f, a, b)\n",
    "    x = (a+b)/2\n",
    "    while abs(b-a) > 1e-6 && abs(f(x)) > 1e-6\n",
    "        a, b = f(x)*f(a) < 0 ? (a, x) : (x, b)  # Ternary operator\n",
    "        x = (a+b)/2\n",
    "    end\n",
    "    return x\n",
    "end"
   ]
  },
  {
   "cell_type": "code",
   "execution_count": null,
   "metadata": {
    "collapsed": false
   },
   "outputs": [],
   "source": [
    "function foo(n)\n",
    "    for i = 1:n\n",
    "        w = bisseccao(x->exp(-x)-x, 0, 1)\n",
    "    end\n",
    "end\n",
    "@time foo(10000)\n",
    "@time foo(10000)\n",
    "@time foo(10000)\n",
    "@time foo(10000)"
   ]
  },
  {
   "cell_type": "code",
   "execution_count": null,
   "metadata": {
    "collapsed": false
   },
   "outputs": [],
   "source": [
    "t = linspace(0, 1, 100)\n",
    "x = t.^2 # Operação elemento a elemento\n",
    "y = [exp(a) for a in t] # Compreensão de vetor"
   ]
  },
  {
   "cell_type": "markdown",
   "metadata": {},
   "source": [
    "## Argumentos opcionais posicionais e por palavra chave"
   ]
  },
  {
   "cell_type": "code",
   "execution_count": null,
   "metadata": {
    "collapsed": false
   },
   "outputs": [],
   "source": [
    "function bar(a, b = 1; c = 2)\n",
    "    # println = print + newline\n",
    "    println(\"a = $a, b = $b, c = $c\") # $var interpola variável na string\n",
    "end"
   ]
  },
  {
   "cell_type": "code",
   "execution_count": null,
   "metadata": {
    "collapsed": false
   },
   "outputs": [],
   "source": [
    "bar(1)\n",
    "bar(2)\n",
    "bar(2,3)\n",
    "bar(2,5)\n",
    "bar(2,3,c = 5)\n",
    "bar(2,5,c = 7)\n",
    "bar(2,c=0)"
   ]
  },
  {
   "cell_type": "code",
   "execution_count": null,
   "metadata": {
    "collapsed": false
   },
   "outputs": [],
   "source": [
    "bar(1,2,3) # Deve dar erro"
   ]
  },
  {
   "cell_type": "code",
   "execution_count": null,
   "metadata": {
    "collapsed": false
   },
   "outputs": [],
   "source": [
    "# Comentários com #, ou #=...=#\n",
    "function bisseccao(f, a, b; tolf = 1e-6, tolx = 1e-6)\n",
    "    x = (a+b)/2\n",
    "    while abs(b-a) > tolx && abs(f(x)) > tolf\n",
    "        a, b = f(x)*f(a) < 0 ? (a, x) : (x, b)  # Ternary operator\n",
    "        x = (a+b)/2\n",
    "    end\n",
    "    return x\n",
    "end"
   ]
  },
  {
   "cell_type": "code",
   "execution_count": null,
   "metadata": {
    "collapsed": false
   },
   "outputs": [],
   "source": [
    "f(x) = x^2 - 2\n",
    "x = bisseccao(f, 0, 2)\n",
    "println(\"√2 = $x\")\n",
    "x = bisseccao(f, 0, 2, tolf = 1e-2)\n",
    "println(\"√2 = $x\")\n",
    "x = bisseccao(f, 0, 2, tolx = 1e-2)\n",
    "println(\"√2 = $x\")"
   ]
  },
  {
   "cell_type": "markdown",
   "metadata": {},
   "source": [
    "## Matriz e vetor"
   ]
  },
  {
   "cell_type": "code",
   "execution_count": null,
   "metadata": {
    "collapsed": false
   },
   "outputs": [],
   "source": [
    "v = rand(100) # Vetor\n",
    "M = rand(100, 100) # Matriz\n",
    "y = M*v # Mult. matriz vetor\n",
    "w = M\\y # Sol. de SL\n",
    "norm(w - v) # Outras operações de vetor"
   ]
  },
  {
   "cell_type": "code",
   "execution_count": null,
   "metadata": {
    "collapsed": false
   },
   "outputs": [],
   "source": [
    "function prodint(v, w)\n",
    "    s = 0.0\n",
    "    n = length(v)\n",
    "    for i = 1:n\n",
    "        s += v[i]*w[i] # Acesso por [], inicio em 1\n",
    "    end\n",
    "    return s\n",
    "end"
   ]
  },
  {
   "cell_type": "code",
   "execution_count": null,
   "metadata": {
    "collapsed": false
   },
   "outputs": [],
   "source": [
    "prodint(v, y)"
   ]
  },
  {
   "cell_type": "code",
   "execution_count": null,
   "metadata": {
    "collapsed": false
   },
   "outputs": [],
   "source": [
    "prodint(v, y) - dot(v, y)"
   ]
  },
  {
   "cell_type": "markdown",
   "metadata": {},
   "source": [
    "## Tipos"
   ]
  },
  {
   "cell_type": "code",
   "execution_count": null,
   "metadata": {
    "collapsed": false
   },
   "outputs": [],
   "source": [
    "Float64 <: AbstractFloat <: Real <: Number <: Any"
   ]
  },
  {
   "cell_type": "code",
   "execution_count": null,
   "metadata": {
    "collapsed": false
   },
   "outputs": [],
   "source": [
    "Int64 <: Integer <: Real <: Number <: Any"
   ]
  },
  {
   "cell_type": "code",
   "execution_count": null,
   "metadata": {
    "collapsed": false
   },
   "outputs": [],
   "source": [
    "UInt8(1)"
   ]
  },
  {
   "cell_type": "code",
   "execution_count": null,
   "metadata": {
    "collapsed": false
   },
   "outputs": [],
   "source": [
    "UInt64(1)"
   ]
  },
  {
   "cell_type": "code",
   "execution_count": null,
   "metadata": {
    "collapsed": false
   },
   "outputs": [],
   "source": [
    "Int"
   ]
  },
  {
   "cell_type": "code",
   "execution_count": null,
   "metadata": {
    "collapsed": false
   },
   "outputs": [],
   "source": [
    "println(\"In $(typeof(11/5)): 11/5 = $(11/5)\")\n",
    "println(\"In $(typeof(11//5)): 11//5 = $(11//5)\")\n",
    "println(\"In $(typeof(div(11,5))): div(11/5) = $(div(11,5))\")"
   ]
  },
  {
   "cell_type": "code",
   "execution_count": null,
   "metadata": {
    "collapsed": false
   },
   "outputs": [],
   "source": [
    "11//5"
   ]
  },
  {
   "cell_type": "code",
   "execution_count": null,
   "metadata": {
    "collapsed": false
   },
   "outputs": [],
   "source": [
    "div(11,5)"
   ]
  },
  {
   "cell_type": "code",
   "execution_count": null,
   "metadata": {
    "collapsed": false
   },
   "outputs": [],
   "source": [
    "2 + 3.0"
   ]
  },
  {
   "cell_type": "code",
   "execution_count": null,
   "metadata": {
    "collapsed": false
   },
   "outputs": [],
   "source": [
    "factorial(BigInt(30))"
   ]
  },
  {
   "cell_type": "code",
   "execution_count": null,
   "metadata": {
    "collapsed": false
   },
   "outputs": [],
   "source": [
    "( 1 + BigFloat(1e-30) ) - 1"
   ]
  },
  {
   "cell_type": "code",
   "execution_count": null,
   "metadata": {
    "collapsed": false
   },
   "outputs": [],
   "source": [
    "x = bisseccao(f, BigFloat(0), BigFloat(2), tolf=1e-32, tolx=1e-32)\n",
    "println(\"√2 = $x\")\n",
    "println(\"x^2-2 = $(x^2-2)\")"
   ]
  },
  {
   "cell_type": "markdown",
   "metadata": {},
   "source": [
    "## Multiple dispatch"
   ]
  },
  {
   "cell_type": "code",
   "execution_count": null,
   "metadata": {
    "collapsed": false
   },
   "outputs": [],
   "source": [
    "function doink(a :: Int)\n",
    "    return a + 1\n",
    "end\n",
    "\n",
    "function doink(a :: Float64)\n",
    "    return a*2\n",
    "end\n",
    "\n",
    "function doink(a :: Float64, b :: Float64)\n",
    "    return a*b\n",
    "end"
   ]
  },
  {
   "cell_type": "code",
   "execution_count": null,
   "metadata": {
    "collapsed": false
   },
   "outputs": [],
   "source": [
    "doink(3)"
   ]
  },
  {
   "cell_type": "code",
   "execution_count": null,
   "metadata": {
    "collapsed": false
   },
   "outputs": [],
   "source": [
    "doink(3.0)"
   ]
  },
  {
   "cell_type": "code",
   "execution_count": null,
   "metadata": {
    "collapsed": false
   },
   "outputs": [],
   "source": [
    "doink(2., 3)"
   ]
  },
  {
   "cell_type": "markdown",
   "metadata": {},
   "source": [
    "## So many other things"
   ]
  },
  {
   "cell_type": "code",
   "execution_count": null,
   "metadata": {
    "collapsed": false
   },
   "outputs": [],
   "source": [
    "# Short circuit\n",
    "(1 > 0) && println(\"oi\")\n",
    "(1 < 0) && error(\"A casa caiu\")"
   ]
  },
  {
   "cell_type": "code",
   "execution_count": null,
   "metadata": {
    "collapsed": false
   },
   "outputs": [],
   "source": [
    "# Matrix comprehension\n",
    "Hilb = [1.0/(i+j-1) for i = 1:5, j = 1:5]"
   ]
  },
  {
   "cell_type": "code",
   "execution_count": null,
   "metadata": {
    "collapsed": false
   },
   "outputs": [],
   "source": [
    "# For em objeto\n",
    "for s in [\"batata\", \"farofa\", \"tomate\"]\n",
    "    println(\"Gosto de $s\")\n",
    "end"
   ]
  },
  {
   "cell_type": "code",
   "execution_count": null,
   "metadata": {
    "collapsed": false
   },
   "outputs": [],
   "source": [
    "# Julia gosta de Unicode\n",
    "Δ = 4\n",
    "∇f(x) = x\n",
    "function soma(β, γ)\n",
    "    α = β + γ\n",
    "    return α\n",
    "end\n",
    "(1 ∈ [1,2]) && println(\"sim, está\")\n",
    "println(rand(3)⋅rand(3))"
   ]
  },
  {
   "cell_type": "code",
   "execution_count": null,
   "metadata": {
    "collapsed": false
   },
   "outputs": [],
   "source": [
    "# Julia tem constantes\n",
    "println(π)\n",
    "println(e)\n",
    "println(typeof(π))"
   ]
  },
  {
   "cell_type": "code",
   "execution_count": null,
   "metadata": {
    "collapsed": false
   },
   "outputs": [],
   "source": [
    "for tp in [Float64, Float32, Float16, BigFloat]\n",
    "    println(\"$tp(π) = $( tp(π) )\")\n",
    "end"
   ]
  },
  {
   "cell_type": "markdown",
   "metadata": {},
   "source": [
    "# Interface com C/Fortran"
   ]
  },
  {
   "cell_type": "markdown",
   "metadata": {},
   "source": [
    "## Apenas bibliotecas dinâmicas"
   ]
  },
  {
   "cell_type": "code",
   "execution_count": null,
   "metadata": {
    "collapsed": false
   },
   "outputs": [],
   "source": [
    ";bash --version"
   ]
  },
  {
   "cell_type": "code",
   "execution_count": null,
   "metadata": {
    "collapsed": false
   },
   "outputs": [],
   "source": [
    ";cat testlib.c"
   ]
  },
  {
   "cell_type": "code",
   "execution_count": null,
   "metadata": {
    "collapsed": true
   },
   "outputs": [],
   "source": [
    ";gcc -c -fPIC testlib.c -o testlib.o"
   ]
  },
  {
   "cell_type": "code",
   "execution_count": null,
   "metadata": {
    "collapsed": true
   },
   "outputs": [],
   "source": [
    ";ld -shared testlib.o -o testlib.so"
   ]
  },
  {
   "cell_type": "code",
   "execution_count": null,
   "metadata": {
    "collapsed": false
   },
   "outputs": [],
   "source": [
    "x = rand(10)\n",
    "y = rand(10)\n",
    "\n",
    "dt = ccall( (\"dotprod\",\"testlib\"),\n",
    "    Cdouble,\n",
    "    (Ptr{Cdouble}, Ptr{Cdouble}, Cint),\n",
    "    x, y, 10)\n",
    "\n",
    "println(dt - dot(x,y))"
   ]
  },
  {
   "cell_type": "markdown",
   "metadata": {},
   "source": [
    "# Pacotes"
   ]
  },
  {
   "cell_type": "markdown",
   "metadata": {},
   "source": [
    "- Julia trabalha com `module`s, que geram pacotes, em geral com nome `NomeDoPacote.jl`;\n",
    "- Os pacotes podem ser indexados ou não;\n",
    "- Se forem indexados, a instalação é `Pkg.add(\"NomeDoPacote\")`;\n",
    "- Se não forem, podem ser instalados por `Pkg.clone(\"link/para/o/git/do/pacote\")`;\n",
    "- Julia usa git para gerenciar os pacotes;\n",
    "- Julia recomenda o uso de testes automatizados e cobertura de códigos."
   ]
  },
  {
   "cell_type": "markdown",
   "metadata": {},
   "source": [
    "# Comparações com outras linguagens"
   ]
  },
  {
   "cell_type": "markdown",
   "metadata": {},
   "source": [
    "## Julia vs C/Fortran\n",
    "\n",
    " - Julia consegue chamar códigos dessas linguagens diretamente, desde que tenham sido compilado dinamicamente;\n",
    " - Julia segue endereçamento a partir do 1 (como Fortran), mas acessa vetor com colchete (como C);\n",
    " - Julia é alto nível, então tem muita coisa a mais (como toda linguagem de alto nível).\n",
    " \n",
    "## Julia vs Python\n",
    "\n",
    " - Sintaxe parecida em alguns pontos;\n",
    " - Python está bem estabelecido incluindo bastante pacotes;\n",
    " - Julia foi feita pensando em álgebra linear numérica, então é bem mais agradável nessa parte;\n",
    " - Julia é mais rápida ~20x.\n",
    "\n",
    "## Julia vs MatLab\n",
    "\n",
    " - Em geral, MatLab é mais lento;\n",
    " - Sintaxe foi completamente inspirado pelo MatLab;\n",
    " - MatLab gera hábitos ruins: monólitos, arquivos sem função, pacotes/bibliotecas são apenas arquivos copiados e colados;\n",
    " - Julia exige git para criação de pacotes, e incentiva o uso de automatização de testes e cobertura de código (Talvez pelo uso do GitHub);\n",
    " - MatLab é fechado, mas por outro lado decide o que quer e contrata alguém para fazê-lo;\n",
    " - Julia é aberto, mas tem uma comunidade bastante ativa e interessada;\n",
    " - Interação com código de baixo nível é ridícula."
   ]
  },
  {
   "cell_type": "markdown",
   "metadata": {},
   "source": [
    "# Exemplos notáveis de pacotes"
   ]
  },
  {
   "cell_type": "markdown",
   "metadata": {},
   "source": [
    "## Plots - http://plots.readthedocs.io/en/latest/"
   ]
  },
  {
   "cell_type": "code",
   "execution_count": null,
   "metadata": {
    "collapsed": false
   },
   "outputs": [],
   "source": [
    "# Plots - Biblioteca unificada para gráficos\n",
    "# Backends: Pyplot, GR, e vários outros\n",
    "using Plots\n",
    "gr()\n",
    "t = linspace(0, 1, 100)\n",
    "x = t.^2\n",
    "y = sin(t*π)\n",
    "plot(t, x)\n",
    "plot!(t, y)"
   ]
  },
  {
   "cell_type": "code",
   "execution_count": null,
   "metadata": {
    "collapsed": false
   },
   "outputs": [],
   "source": [
    "n = 10\n",
    "p = rand(2,n)\n",
    "scatter(p[1,:], p[2,:], leg=false, c=:blue)"
   ]
  },
  {
   "cell_type": "code",
   "execution_count": null,
   "metadata": {
    "collapsed": false
   },
   "outputs": [],
   "source": [
    "anim = Animation()\n",
    "for i = 1:n\n",
    "    scatter(p[1,:], p[2,:], leg=false, c=:blue)\n",
    "    x = [p[1,i]; p[1,i%n+1]]\n",
    "    y = [p[2,i]; p[2,i%n+1]]\n",
    "    plot!(x, y, c=:red)\n",
    "    frame(anim)\n",
    "end\n",
    "gif(anim, \"tmp.gif\", fps=10)"
   ]
  },
  {
   "cell_type": "markdown",
   "metadata": {},
   "source": [
    "# JuMP - http://jump.readthedocs.org/"
   ]
  },
  {
   "cell_type": "code",
   "execution_count": null,
   "metadata": {
    "collapsed": false
   },
   "outputs": [],
   "source": [
    "# JuMP - Linguagem de modelagem em Julia\n",
    "# Pkg.add(\"Ipopt\") # for the solver\n",
    "using JuMP\n",
    "using Ipopt\n",
    "\n",
    "m = Model()\n",
    "y = rand(5)\n",
    "@variable(m, x[1:5])\n",
    "@constraint(m, sum{x[i]*y[i], i = 1:5} == 1)\n",
    "@objective(m, Min, sum{x[i]^2, i = 1:5})\n",
    "\n",
    "solve(m)"
   ]
  },
  {
   "cell_type": "code",
   "execution_count": null,
   "metadata": {
    "collapsed": false
   },
   "outputs": [],
   "source": [
    "xv = getvalue(x)"
   ]
  },
  {
   "cell_type": "markdown",
   "metadata": {},
   "source": [
    "$$ \\min \\sum_{i=1}^n x_i^2 = x^Tx \\qquad \\mbox{suj. a} \\qquad y^Tx = 1 $$\n",
    "\n",
    "KKT:\n",
    "\n",
    "$$ \\left\\{ \\begin{align}\n",
    "2x & = \\lambda y \\\\\n",
    "y^Tx & = 1\n",
    "\\end{align}\\right.\n",
    "\\ \\Rightarrow \\\n",
    "y^Tx = \\lambda y^Ty\n",
    "\\ \\Rightarrow \\\n",
    "\\lambda = \\frac{2}{y^Ty}\n",
    "\\ \\Rightarrow \\\n",
    "x = \\frac{y}{y^Ty}\n",
    "$$"
   ]
  },
  {
   "cell_type": "code",
   "execution_count": null,
   "metadata": {
    "collapsed": false
   },
   "outputs": [],
   "source": [
    "norm(xv - y/dot(y,y))"
   ]
  },
  {
   "cell_type": "markdown",
   "metadata": {},
   "source": [
    "JuMP modela problemas\n",
    "\n",
    " - lineares e não-lineares;\n",
    " - contínuous, inteiros e mistos;\n",
    " - irrestritos e restritos;\n",
    " - formulações específicas como programação semi-definida, ou cônica."
   ]
  },
  {
   "cell_type": "code",
   "execution_count": null,
   "metadata": {
    "collapsed": false
   },
   "outputs": [],
   "source": [
    ";cat sudoku.in"
   ]
  },
  {
   "cell_type": "code",
   "execution_count": null,
   "metadata": {
    "collapsed": false
   },
   "outputs": [],
   "source": [
    "# JuMP - Linguagem de modelagem em Julia\n",
    "# Pkg.add(\"Cbc\") # for the solver\n",
    "using JuMP\n",
    "using Cbc\n",
    "\n",
    "m = Model()\n",
    "\n",
    "@variable(m, x[1:9,1:9,1:9], Bin)\n",
    "@constraints(m, begin\n",
    "    cell[i=1:9, j=1:9], sum(x[i,j,:]) == 1\n",
    "    row[i=1:9, k=1:9], sum(x[i,:,k]) == 1\n",
    "    col[j=1:9, k=1:9], sum(x[:,j,k]) == 1\n",
    "    subgrid[i=1:3:7,j=1:3:7,val=1:9], sum(x[i:i+2,j:j+2,val]) == 1\n",
    "end)\n",
    "\n",
    "lines = readlines(open(\"sudoku.in\"))\n",
    "for (i,line) in enumerate(lines)\n",
    "    sline = split(line)\n",
    "    J = find(sline .!= \".\")\n",
    "    for j in J\n",
    "        @constraint(m, x[i,j,parse(Int,sline[j])] == 1)\n",
    "    end\n",
    "end\n",
    "\n",
    "status = solve(m)"
   ]
  },
  {
   "cell_type": "code",
   "execution_count": null,
   "metadata": {
    "collapsed": false
   },
   "outputs": [],
   "source": [
    "X = getvalue(x)\n",
    "for i = 1:9\n",
    "    for j = 1:9\n",
    "        print(\"$(findfirst(X[i,j,:] .!= 0)) \")\n",
    "    end\n",
    "    println(\"\")\n",
    "end"
   ]
  },
  {
   "cell_type": "code",
   "execution_count": null,
   "metadata": {
    "collapsed": false
   },
   "outputs": [],
   "source": [
    ";cat sudoku.in"
   ]
  },
  {
   "cell_type": "markdown",
   "metadata": {},
   "source": [
    "# FANN - https://github.com/gasagna/FANN.jl\n",
    "\n",
    "## Old package"
   ]
  },
  {
   "cell_type": "code",
   "execution_count": null,
   "metadata": {
    "collapsed": false,
    "scrolled": true
   },
   "outputs": [],
   "source": [
    "# FANN - Fast Artifical Neural Network\n",
    "using FANN\n",
    "using Plots\n",
    "gr()\n",
    "\n",
    "## Dados ficticios\n",
    "x = rand(2, 100)\n",
    "y = 0.2*x[1,:].^2 + 0.8*x[2,:] + 0.05*rand(1, 100)\n",
    "scatter3d(x[1,:][:], x[2,:][:], y[:])"
   ]
  },
  {
   "cell_type": "code",
   "execution_count": null,
   "metadata": {
    "collapsed": false
   },
   "outputs": [],
   "source": [
    "dset = DataSet(x, y)\n",
    "net = ANN([2, 5, 1], [:sigmoid, :linear], errorfunc=:tanh, steepness=1.0)\n",
    "train!(net, dset, max_epochs=10000, epochs_between_reports=1000)"
   ]
  },
  {
   "cell_type": "code",
   "execution_count": null,
   "metadata": {
    "collapsed": false
   },
   "outputs": [],
   "source": [
    "z = predict(net, x)"
   ]
  },
  {
   "cell_type": "code",
   "execution_count": null,
   "metadata": {
    "collapsed": false
   },
   "outputs": [],
   "source": [
    "scatter3d(x[1,:][:], x[2,:][:], y[:])\n",
    "scatter3d!(x[1,:][:], x[2,:][:], z[:], c=:magenta)"
   ]
  },
  {
   "cell_type": "markdown",
   "metadata": {},
   "source": [
    "# Interact - https://github.com/JuliaLang/Interact.jl"
   ]
  },
  {
   "cell_type": "code",
   "execution_count": null,
   "metadata": {
    "collapsed": false
   },
   "outputs": [],
   "source": [
    "using Interact\n",
    "using Plots\n",
    "gr()\n",
    "\n",
    "t = linspace(0, 8, 1000)\n",
    "@manipulate for C₀ = 100:100:1000, r = 0.5:0.1:4\n",
    "    plot(t, C₀*r*t.*exp(-r*t+1))\n",
    "    xlims!(0, 8)\n",
    "    ylims!(0, 1000)\n",
    "end"
   ]
  },
  {
   "cell_type": "markdown",
   "metadata": {},
   "source": [
    "## Framework para otimização não-linear contínua: em progresso\n",
    "\n",
    "  - Trabalho em conjunto com o professor Dominique Orban, com várias pequenas partes.\n",
    "  - Possíveis projetos de várias níveis.\n",
    "  - Todos envolvem programação e dedicação."
   ]
  },
  {
   "cell_type": "markdown",
   "metadata": {
    "collapsed": true
   },
   "source": [
    "## Outros que parecem estar ativos e que podem ser interessantes\n",
    "\n",
    "  - Arduino\n",
    "  - BackdropNeuralNet (mais atual, não sei se melhor)\n",
    "  - Bio (Bioinformatics and Computational Biology infrastructure)\n",
    "  - CUDA, CUDArt\n",
    "  - FactCheck\n",
    "  - Formatting (Formatação tipo Python)\n",
    "  - Graphs\n",
    "  - IJulia"
   ]
  }
 ],
 "metadata": {
  "kernelspec": {
   "display_name": "Julia 0.4.3",
   "language": "julia",
   "name": "julia-0.4"
  },
  "language_info": {
   "file_extension": ".jl",
   "mimetype": "application/julia",
   "name": "julia",
   "version": "0.4.3"
  }
 },
 "nbformat": 4,
 "nbformat_minor": 0
}
